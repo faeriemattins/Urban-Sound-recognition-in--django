{
 "cells": [
  {
   "cell_type": "markdown",
   "id": "expressed-biotechnology",
   "metadata": {},
   "source": [
    "# Importing necessary libraries"
   ]
  },
  {
   "cell_type": "code",
   "execution_count": 1,
   "id": "breeding-prime",
   "metadata": {},
   "outputs": [],
   "source": [
    "import pandas as pd\n",
    "import numpy as np\n",
    "\n",
    "pd.plotting.register_matplotlib_converters()\n",
    "import matplotlib.pyplot as plt\n",
    "%matplotlib inline\n",
    "import seaborn as sns\n",
    "\n",
    "from sklearn.model_selection import train_test_split\n",
    "from sklearn.metrics import classification_report\n",
    "from sklearn.model_selection import GridSearchCV\n",
    "\n",
    "from sklearn.preprocessing import MinMaxScaler"
   ]
  },
  {
   "cell_type": "code",
   "execution_count": 2,
   "id": "severe-candle",
   "metadata": {},
   "outputs": [],
   "source": [
    "# Libraries for Classification and building Models\n",
    "\n",
    "from tensorflow.keras.models import Sequential\n",
    "from tensorflow.keras.layers import Conv2D, Flatten, Dense, MaxPool2D, Dropout\n",
    "from tensorflow.keras.utils import to_categorical \n",
    "\n",
    "from sklearn.ensemble import RandomForestClassifier\n",
    "from sklearn.svm import SVC"
   ]
  },
  {
   "cell_type": "code",
   "execution_count": 3,
   "id": "orange-politics",
   "metadata": {},
   "outputs": [],
   "source": [
    "# Project Specific Libraries\n",
    "\n",
    "import os\n",
    "import librosa\n",
    "import librosa.display\n",
    "import glob \n",
    "import skimage"
   ]
  },
  {
   "cell_type": "markdown",
   "id": "amber-reverse",
   "metadata": {},
   "source": [
    "# Analysing Data type format"
   ]
  },
  {
   "cell_type": "code",
   "execution_count": 4,
   "id": "economic-cinema",
   "metadata": {},
   "outputs": [
    {
     "data": {
      "text/html": [
       "<div>\n",
       "<style scoped>\n",
       "    .dataframe tbody tr th:only-of-type {\n",
       "        vertical-align: middle;\n",
       "    }\n",
       "\n",
       "    .dataframe tbody tr th {\n",
       "        vertical-align: top;\n",
       "    }\n",
       "\n",
       "    .dataframe thead th {\n",
       "        text-align: right;\n",
       "    }\n",
       "</style>\n",
       "<table border=\"1\" class=\"dataframe\">\n",
       "  <thead>\n",
       "    <tr style=\"text-align: right;\">\n",
       "      <th></th>\n",
       "      <th>slice_file_name</th>\n",
       "      <th>fsID</th>\n",
       "      <th>start</th>\n",
       "      <th>end</th>\n",
       "      <th>salience</th>\n",
       "      <th>fold</th>\n",
       "      <th>classID</th>\n",
       "      <th>class</th>\n",
       "    </tr>\n",
       "  </thead>\n",
       "  <tbody>\n",
       "    <tr>\n",
       "      <th>0</th>\n",
       "      <td>100032-3-0-0.wav</td>\n",
       "      <td>100032</td>\n",
       "      <td>0.0</td>\n",
       "      <td>0.317551</td>\n",
       "      <td>1</td>\n",
       "      <td>5</td>\n",
       "      <td>3</td>\n",
       "      <td>dog_bark</td>\n",
       "    </tr>\n",
       "    <tr>\n",
       "      <th>1</th>\n",
       "      <td>100263-2-0-117.wav</td>\n",
       "      <td>100263</td>\n",
       "      <td>58.5</td>\n",
       "      <td>62.500000</td>\n",
       "      <td>1</td>\n",
       "      <td>5</td>\n",
       "      <td>2</td>\n",
       "      <td>children_playing</td>\n",
       "    </tr>\n",
       "    <tr>\n",
       "      <th>2</th>\n",
       "      <td>100263-2-0-121.wav</td>\n",
       "      <td>100263</td>\n",
       "      <td>60.5</td>\n",
       "      <td>64.500000</td>\n",
       "      <td>1</td>\n",
       "      <td>5</td>\n",
       "      <td>2</td>\n",
       "      <td>children_playing</td>\n",
       "    </tr>\n",
       "    <tr>\n",
       "      <th>3</th>\n",
       "      <td>100263-2-0-126.wav</td>\n",
       "      <td>100263</td>\n",
       "      <td>63.0</td>\n",
       "      <td>67.000000</td>\n",
       "      <td>1</td>\n",
       "      <td>5</td>\n",
       "      <td>2</td>\n",
       "      <td>children_playing</td>\n",
       "    </tr>\n",
       "    <tr>\n",
       "      <th>4</th>\n",
       "      <td>100263-2-0-137.wav</td>\n",
       "      <td>100263</td>\n",
       "      <td>68.5</td>\n",
       "      <td>72.500000</td>\n",
       "      <td>1</td>\n",
       "      <td>5</td>\n",
       "      <td>2</td>\n",
       "      <td>children_playing</td>\n",
       "    </tr>\n",
       "  </tbody>\n",
       "</table>\n",
       "</div>"
      ],
      "text/plain": [
       "      slice_file_name    fsID  start        end  salience  fold  classID  \\\n",
       "0    100032-3-0-0.wav  100032    0.0   0.317551         1     5        3   \n",
       "1  100263-2-0-117.wav  100263   58.5  62.500000         1     5        2   \n",
       "2  100263-2-0-121.wav  100263   60.5  64.500000         1     5        2   \n",
       "3  100263-2-0-126.wav  100263   63.0  67.000000         1     5        2   \n",
       "4  100263-2-0-137.wav  100263   68.5  72.500000         1     5        2   \n",
       "\n",
       "              class  \n",
       "0          dog_bark  \n",
       "1  children_playing  \n",
       "2  children_playing  \n",
       "3  children_playing  \n",
       "4  children_playing  "
      ]
     },
     "execution_count": 4,
     "metadata": {},
     "output_type": "execute_result"
    }
   ],
   "source": [
    "df = pd.read_csv(\"UrbanSound8K.csv\")\n",
    "df.head()"
   ]
  },
  {
   "cell_type": "markdown",
   "id": "absolute-toilet",
   "metadata": {},
   "source": [
    "## Using Librosa to analyse random sound sample - SPECTOGRAM\n"
   ]
  },
  {
   "cell_type": "code",
   "execution_count": 5,
   "id": "japanese-agenda",
   "metadata": {},
   "outputs": [
    {
     "data": {
      "text/plain": [
       "Text(0.5, 1.0, 'Linear-frequency power spectrogram')"
      ]
     },
     "execution_count": 5,
     "metadata": {},
     "output_type": "execute_result"
    },
    {
     "data": {
      "image/png": "[encoded data removed]",
      "text/plain": [
       "<Figure size 1440x720 with 2 Axes>"
      ]
     },
     "metadata": {
      "needs_background": "light"
     },
     "output_type": "display_data"
    }
   ],
   "source": [
    "dat1, sampling_rate1 = librosa.load('fold5/100032-3-0-0.wav')\n",
    "dat2, sampling_rate2 = librosa.load('fold5/100263-2-0-117.wav')\n",
    "\n",
    "plt.figure(figsize=(20, 10))\n",
    "D = librosa.amplitude_to_db(np.abs(librosa.stft(dat1)), ref=np.max)\n",
    "plt.subplot(4, 2, 1)\n",
    "librosa.display.specshow(D, y_axis='linear')\n",
    "plt.colorbar(format='%+2.0f dB')\n",
    "plt.title('Linear-frequency power spectrogram')"
   ]
  },
  {
   "cell_type": "code",
   "execution_count": 6,
   "id": "conceptual-contamination",
   "metadata": {},
   "outputs": [
    {
     "data": {
      "text/plain": [
       "Text(0.5, 1.0, 'Linear-frequency power spectrogram')"
      ]
     },
     "execution_count": 6,
     "metadata": {},
     "output_type": "execute_result"
    },
    {
     "data": {
      "image/png": "[encoded data removed]",
      "text/plain": [
       "<Figure size 1440x720 with 2 Axes>"
      ]
     },
     "metadata": {
      "needs_background": "light"
     },
     "output_type": "display_data"
    }
   ],
   "source": [
    "plt.figure(figsize=(20, 10))\n",
    "D = librosa.amplitude_to_db(np.abs(librosa.stft(dat2)), ref=np.max)\n",
    "plt.subplot(4, 2, 1)\n",
    "librosa.display.specshow(D, y_axis='linear')\n",
    "plt.colorbar(format='%+2.0f dB')\n",
    "plt.title('Linear-frequency power spectrogram')"
   ]
  },
  {
   "cell_type": "markdown",
   "id": "improving-scottish",
   "metadata": {},
   "source": [
    "# Feature extraction and Database Building"
   ]
  },
  {
   "cell_type": "code",
   "execution_count": 7,
   "id": "quiet-induction",
   "metadata": {},
   "outputs": [
    {
     "data": {
      "text/plain": [
       "array([[5.2041847e-05, 7.4304415e-05, 7.9062178e-05, ..., 7.2118869e-06,\n",
       "        9.1289648e-06, 2.2435783e-05],\n",
       "       [1.1983800e-04, 1.0407303e-04, 1.2973434e-04, ..., 1.5024093e-05,\n",
       "        3.2160071e-05, 5.9852322e-05],\n",
       "       [2.1444363e-04, 1.9571814e-04, 1.6796264e-04, ..., 1.9602911e-04,\n",
       "        2.1960895e-04, 3.1910744e-04],\n",
       "       ...,\n",
       "       [2.2120930e-05, 7.1933417e-04, 9.0416092e-03, ..., 7.6777469e-06,\n",
       "        2.8534155e-06, 1.6350416e-06],\n",
       "       [1.2387790e-05, 3.7830550e-04, 2.3212265e-03, ..., 1.9659210e-06,\n",
       "        8.1735595e-07, 3.0941581e-07],\n",
       "       [2.0148848e-06, 2.1154365e-05, 1.2156230e-04, ..., 1.5913621e-07,\n",
       "        6.1772454e-08, 4.1444746e-08]], dtype=float32)"
      ]
     },
     "execution_count": 7,
     "metadata": {},
     "output_type": "execute_result"
    }
   ],
   "source": [
    "dat1, sampling_rate1 = librosa.load('fold5/100032-3-0-0.wav')\n",
    "arr = librosa.feature.melspectrogram(y=dat1, sr=sampling_rate1)\n",
    "arr"
   ]
  },
  {
   "cell_type": "code",
   "execution_count": 8,
   "id": "polar-preview",
   "metadata": {},
   "outputs": [
    {
     "data": {
      "text/plain": [
       "(128, 14)"
      ]
     },
     "execution_count": 8,
     "metadata": {},
     "output_type": "execute_result"
    }
   ],
   "source": [
    "arr.shape"
   ]
  },
  {
   "cell_type": "code",
   "execution_count": 9,
   "id": "legitimate-likelihood",
   "metadata": {},
   "outputs": [],
   "source": [
    "(128, 14)\n",
    "feature = []\n",
    "label = []\n",
    "\n",
    "def parser(row):\n",
    "    # Function to load files and extract features\n",
    "    for i in range(8732):\n",
    "        file_name = 'fold' + str(df[\"fold\"][i]) + '/' + df[\"slice_file_name\"][i]\n",
    "        # Here kaiser_fast is a technique used for faster extraction\n",
    "        X, sample_rate = librosa.load(file_name, res_type='kaiser_fast') \n",
    "        # We extract mfcc feature from data\n",
    "        mels = np.mean(librosa.feature.melspectrogram(y=X, sr=sample_rate).T,axis=0)        \n",
    "        feature.append(mels)\n",
    "        label.append(df[\"classID\"][i])\n",
    "    return [feature, label]"
   ]
  },
  {
   "cell_type": "code",
   "execution_count": 10,
   "id": "false-payday",
   "metadata": {
    "scrolled": true
   },
   "outputs": [
    {
     "name": "stderr",
     "output_type": "stream",
     "text": [
      "/home/faerie-mattins/Desktop/sound_recog/venv/lib/python3.8/site-packages/librosa/core/spectrum.py:222: UserWarning: n_fft=2048 is too small for input signal of length=1323\n",
      "  warnings.warn(\n",
      "/home/faerie-mattins/Desktop/sound_recog/venv/lib/python3.8/site-packages/librosa/core/spectrum.py:222: UserWarning: n_fft=2048 is too small for input signal of length=1103\n",
      "  warnings.warn(\n",
      "/home/faerie-mattins/Desktop/sound_recog/venv/lib/python3.8/site-packages/librosa/core/spectrum.py:222: UserWarning: n_fft=2048 is too small for input signal of length=1523\n",
      "  warnings.warn(\n"
     ]
    }
   ],
   "source": [
    "temp = parser(df)"
   ]
  },
  {
   "cell_type": "code",
   "execution_count": 11,
   "id": "german-recorder",
   "metadata": {},
   "outputs": [
    {
     "name": "stderr",
     "output_type": "stream",
     "text": [
      "<ipython-input-11-16088c198d1d>:1: VisibleDeprecationWarning: Creating an ndarray from ragged nested sequences (which is a list-or-tuple of lists-or-tuples-or ndarrays with different lengths or shapes) is deprecated. If you meant to do this, you must specify 'dtype=object' when creating the ndarray\n",
      "  temp = np.array(temp)\n"
     ]
    }
   ],
   "source": [
    "temp = np.array(temp)\n",
    "data = temp.transpose()"
   ]
  },
  {
   "cell_type": "code",
   "execution_count": 12,
   "id": "sized-turning",
   "metadata": {},
   "outputs": [
    {
     "name": "stdout",
     "output_type": "stream",
     "text": [
      "(8732,) (8732,)\n"
     ]
    }
   ],
   "source": [
    "X_ = data[:, 0]\n",
    "Y = data[:, 1]\n",
    "print(X_.shape, Y.shape)\n",
    "X = np.empty([8732, 128])"
   ]
  },
  {
   "cell_type": "code",
   "execution_count": 13,
   "id": "basic-trustee",
   "metadata": {},
   "outputs": [],
   "source": [
    "for i in range(8732):\n",
    "    X[i] = (X_[i])"
   ]
  },
  {
   "cell_type": "code",
   "execution_count": 14,
   "id": "ignored-nudist",
   "metadata": {},
   "outputs": [],
   "source": [
    "Y = to_categorical(Y)"
   ]
  },
  {
   "cell_type": "code",
   "execution_count": 15,
   "id": "hawaiian-discrimination",
   "metadata": {},
   "outputs": [
    {
     "name": "stdout",
     "output_type": "stream",
     "text": [
      "(8732, 128)\n",
      "(8732, 10)\n"
     ]
    }
   ],
   "source": [
    "print(X.shape)\n",
    "print(Y.shape)"
   ]
  },
  {
   "cell_type": "code",
   "execution_count": 16,
   "id": "european-lexington",
   "metadata": {},
   "outputs": [],
   "source": [
    "X_train, X_test, Y_train, Y_test = train_test_split(X, Y, random_state = 1)"
   ]
  },
  {
   "cell_type": "code",
   "execution_count": 17,
   "id": "arabic-performer",
   "metadata": {},
   "outputs": [],
   "source": [
    "X_train = X_train.reshape(6549, 16, 8, 1)\n",
    "X_test = X_test.reshape(2183, 16, 8, 1)"
   ]
  },
  {
   "cell_type": "code",
   "execution_count": 18,
   "id": "uniform-least",
   "metadata": {},
   "outputs": [],
   "source": [
    "input_dim = (16, 8, 1)"
   ]
  },
  {
   "cell_type": "markdown",
   "id": "functioning-testing",
   "metadata": {},
   "source": [
    "# Creating Keras Model and Testing"
   ]
  },
  {
   "cell_type": "code",
   "execution_count": 19,
   "id": "primary-ghana",
   "metadata": {},
   "outputs": [],
   "source": [
    "model = Sequential()"
   ]
  },
  {
   "cell_type": "code",
   "execution_count": 20,
   "id": "widespread-cliff",
   "metadata": {},
   "outputs": [],
   "source": [
    "model.add(Conv2D(64, (3, 3), padding = \"same\", activation = \"tanh\", input_shape = input_dim))\n",
    "model.add(MaxPool2D(pool_size=(2, 2)))\n",
    "model.add(Conv2D(128, (3, 3), padding = \"same\", activation = \"tanh\"))\n",
    "model.add(MaxPool2D(pool_size=(2, 2)))\n",
    "model.add(Dropout(0.1))\n",
    "model.add(Flatten())\n",
    "model.add(Dense(1024, activation = \"tanh\"))\n",
    "model.add(Dense(10, activation = \"softmax\"))"
   ]
  },
  {
   "cell_type": "code",
   "execution_count": 21,
   "id": "thirty-national",
   "metadata": {},
   "outputs": [],
   "source": [
    "model.compile(optimizer = 'adam', loss = 'categorical_crossentropy', metrics = ['accuracy'])\n"
   ]
  },
  {
   "cell_type": "code",
   "execution_count": 22,
   "id": "adverse-glenn",
   "metadata": {},
   "outputs": [
    {
     "name": "stdout",
     "output_type": "stream",
     "text": [
      "Epoch 1/90\n",
      "131/131 [==============================] - 4s 30ms/step - loss: 1.7604 - accuracy: 0.4021 - val_loss: 1.2738 - val_accuracy: 0.5772\n",
      "Epoch 2/90\n",
      "131/131 [==============================] - 4s 29ms/step - loss: 1.2026 - accuracy: 0.5958 - val_loss: 1.1334 - val_accuracy: 0.6148\n",
      "Epoch 3/90\n",
      "131/131 [==============================] - 4s 28ms/step - loss: 0.9819 - accuracy: 0.6683 - val_loss: 1.0029 - val_accuracy: 0.6716\n",
      "Epoch 4/90\n",
      "131/131 [==============================] - 4s 28ms/step - loss: 0.8762 - accuracy: 0.7008 - val_loss: 0.9667 - val_accuracy: 0.6899\n",
      "Epoch 5/90\n",
      "131/131 [==============================] - 4s 27ms/step - loss: 0.7615 - accuracy: 0.7481 - val_loss: 0.9187 - val_accuracy: 0.7288\n",
      "Epoch 6/90\n",
      "131/131 [==============================] - 4s 28ms/step - loss: 0.6718 - accuracy: 0.7653 - val_loss: 0.8725 - val_accuracy: 0.7343\n",
      "Epoch 7/90\n",
      "131/131 [==============================] - 6s 45ms/step - loss: 0.6205 - accuracy: 0.7912 - val_loss: 0.9214 - val_accuracy: 0.7357\n",
      "Epoch 8/90\n",
      "131/131 [==============================] - 4s 31ms/step - loss: 0.5945 - accuracy: 0.8018 - val_loss: 0.8955 - val_accuracy: 0.7453\n",
      "Epoch 9/90\n",
      "131/131 [==============================] - 4s 28ms/step - loss: 0.5278 - accuracy: 0.8327 - val_loss: 0.9371 - val_accuracy: 0.7320\n",
      "Epoch 10/90\n",
      "131/131 [==============================] - 4s 28ms/step - loss: 0.5111 - accuracy: 0.8317 - val_loss: 0.8684 - val_accuracy: 0.7600\n",
      "Epoch 11/90\n",
      "131/131 [==============================] - 4s 28ms/step - loss: 0.4668 - accuracy: 0.8489 - val_loss: 0.8787 - val_accuracy: 0.7655\n",
      "Epoch 12/90\n",
      "131/131 [==============================] - 4s 29ms/step - loss: 0.4172 - accuracy: 0.8597 - val_loss: 0.8525 - val_accuracy: 0.7765\n",
      "Epoch 13/90\n",
      "131/131 [==============================] - 4s 29ms/step - loss: 0.4095 - accuracy: 0.8690 - val_loss: 0.8048 - val_accuracy: 0.7874\n",
      "Epoch 14/90\n",
      "131/131 [==============================] - 4s 29ms/step - loss: 0.4012 - accuracy: 0.8635 - val_loss: 0.8673 - val_accuracy: 0.7705\n",
      "Epoch 15/90\n",
      "131/131 [==============================] - 4s 29ms/step - loss: 0.3604 - accuracy: 0.8873 - val_loss: 0.7468 - val_accuracy: 0.7929\n",
      "Epoch 16/90\n",
      "131/131 [==============================] - 4s 28ms/step - loss: 0.3429 - accuracy: 0.8894 - val_loss: 0.8036 - val_accuracy: 0.7893\n",
      "Epoch 17/90\n",
      "131/131 [==============================] - 4s 29ms/step - loss: 0.3502 - accuracy: 0.8845 - val_loss: 0.7143 - val_accuracy: 0.8104\n",
      "Epoch 18/90\n",
      "131/131 [==============================] - 4s 28ms/step - loss: 0.3345 - accuracy: 0.8920 - val_loss: 0.7756 - val_accuracy: 0.8035\n",
      "Epoch 19/90\n",
      "131/131 [==============================] - 4s 29ms/step - loss: 0.2993 - accuracy: 0.9074 - val_loss: 0.8426 - val_accuracy: 0.8007\n",
      "Epoch 20/90\n",
      "131/131 [==============================] - 4s 29ms/step - loss: 0.2982 - accuracy: 0.9018 - val_loss: 0.8029 - val_accuracy: 0.8067\n",
      "Epoch 21/90\n",
      "131/131 [==============================] - 4s 29ms/step - loss: 0.2670 - accuracy: 0.9171 - val_loss: 0.7923 - val_accuracy: 0.8099\n",
      "Epoch 22/90\n",
      "131/131 [==============================] - 4s 29ms/step - loss: 0.2551 - accuracy: 0.9174 - val_loss: 0.7517 - val_accuracy: 0.8195\n",
      "Epoch 23/90\n",
      "131/131 [==============================] - 4s 28ms/step - loss: 0.2393 - accuracy: 0.9224 - val_loss: 0.8459 - val_accuracy: 0.8035\n",
      "Epoch 24/90\n",
      "131/131 [==============================] - 4s 29ms/step - loss: 0.2599 - accuracy: 0.9196 - val_loss: 0.8285 - val_accuracy: 0.8067\n",
      "Epoch 25/90\n",
      "131/131 [==============================] - 4s 30ms/step - loss: 0.2232 - accuracy: 0.9310 - val_loss: 0.7747 - val_accuracy: 0.8177\n",
      "Epoch 26/90\n",
      "131/131 [==============================] - 4s 29ms/step - loss: 0.2404 - accuracy: 0.9184 - val_loss: 0.7953 - val_accuracy: 0.8067\n",
      "Epoch 27/90\n",
      "131/131 [==============================] - 4s 32ms/step - loss: 0.2225 - accuracy: 0.9248 - val_loss: 0.7533 - val_accuracy: 0.8236\n",
      "Epoch 28/90\n",
      "131/131 [==============================] - 4s 29ms/step - loss: 0.1990 - accuracy: 0.9398 - val_loss: 0.8427 - val_accuracy: 0.8131\n",
      "Epoch 29/90\n",
      "131/131 [==============================] - 4s 29ms/step - loss: 0.2247 - accuracy: 0.9293 - val_loss: 0.8004 - val_accuracy: 0.8186\n",
      "Epoch 30/90\n",
      "131/131 [==============================] - 4s 29ms/step - loss: 0.1917 - accuracy: 0.9368 - val_loss: 0.8100 - val_accuracy: 0.8273\n",
      "Epoch 31/90\n",
      "131/131 [==============================] - 4s 30ms/step - loss: 0.1814 - accuracy: 0.9399 - val_loss: 0.7844 - val_accuracy: 0.8319\n",
      "Epoch 32/90\n",
      "131/131 [==============================] - 4s 29ms/step - loss: 0.1803 - accuracy: 0.9426 - val_loss: 0.8067 - val_accuracy: 0.8282\n",
      "Epoch 33/90\n",
      "131/131 [==============================] - 4s 29ms/step - loss: 0.1938 - accuracy: 0.9355 - val_loss: 0.7833 - val_accuracy: 0.8319\n",
      "Epoch 34/90\n",
      "131/131 [==============================] - 4s 29ms/step - loss: 0.1625 - accuracy: 0.9453 - val_loss: 0.8181 - val_accuracy: 0.8374\n",
      "Epoch 35/90\n",
      "131/131 [==============================] - 4s 29ms/step - loss: 0.1647 - accuracy: 0.9435 - val_loss: 0.8381 - val_accuracy: 0.8328\n",
      "Epoch 36/90\n",
      "131/131 [==============================] - 4s 29ms/step - loss: 0.1573 - accuracy: 0.9503 - val_loss: 0.7785 - val_accuracy: 0.8328\n",
      "Epoch 37/90\n",
      "131/131 [==============================] - 4s 29ms/step - loss: 0.1599 - accuracy: 0.9455 - val_loss: 0.8794 - val_accuracy: 0.8227\n",
      "Epoch 38/90\n",
      "131/131 [==============================] - 4s 29ms/step - loss: 0.1705 - accuracy: 0.9477 - val_loss: 0.8561 - val_accuracy: 0.8236\n",
      "Epoch 39/90\n",
      "131/131 [==============================] - 4s 29ms/step - loss: 0.1720 - accuracy: 0.9420 - val_loss: 0.7908 - val_accuracy: 0.8406\n",
      "Epoch 40/90\n",
      "131/131 [==============================] - 4s 29ms/step - loss: 0.1342 - accuracy: 0.9536 - val_loss: 0.8427 - val_accuracy: 0.8346\n",
      "Epoch 41/90\n",
      "131/131 [==============================] - 4s 29ms/step - loss: 0.1517 - accuracy: 0.9475 - val_loss: 0.8406 - val_accuracy: 0.8443\n",
      "Epoch 42/90\n",
      "131/131 [==============================] - 4s 29ms/step - loss: 0.1387 - accuracy: 0.9530 - val_loss: 0.8165 - val_accuracy: 0.8365\n",
      "Epoch 43/90\n",
      "131/131 [==============================] - 4s 29ms/step - loss: 0.1334 - accuracy: 0.9577 - val_loss: 0.8978 - val_accuracy: 0.8282\n",
      "Epoch 44/90\n",
      "131/131 [==============================] - 4s 29ms/step - loss: 0.1268 - accuracy: 0.9591 - val_loss: 0.8088 - val_accuracy: 0.8365\n",
      "Epoch 45/90\n",
      "131/131 [==============================] - 4s 28ms/step - loss: 0.1265 - accuracy: 0.9597 - val_loss: 0.8151 - val_accuracy: 0.8429\n",
      "Epoch 46/90\n",
      "131/131 [==============================] - 4s 28ms/step - loss: 0.1102 - accuracy: 0.9643 - val_loss: 0.8603 - val_accuracy: 0.8365\n",
      "Epoch 47/90\n",
      "131/131 [==============================] - 4s 29ms/step - loss: 0.1314 - accuracy: 0.9529 - val_loss: 0.9901 - val_accuracy: 0.8236\n",
      "Epoch 48/90\n",
      "131/131 [==============================] - 4s 28ms/step - loss: 0.1335 - accuracy: 0.9600 - val_loss: 0.8654 - val_accuracy: 0.8328\n",
      "Epoch 49/90\n",
      "131/131 [==============================] - 4s 29ms/step - loss: 0.1135 - accuracy: 0.9622 - val_loss: 0.8260 - val_accuracy: 0.8470\n",
      "Epoch 50/90\n",
      "131/131 [==============================] - 4s 29ms/step - loss: 0.1086 - accuracy: 0.9630 - val_loss: 0.7732 - val_accuracy: 0.8530\n",
      "Epoch 51/90\n",
      "131/131 [==============================] - 4s 31ms/step - loss: 0.0983 - accuracy: 0.9677 - val_loss: 0.7745 - val_accuracy: 0.8488\n",
      "Epoch 52/90\n",
      "131/131 [==============================] - 5s 36ms/step - loss: 0.0961 - accuracy: 0.9699 - val_loss: 0.9306 - val_accuracy: 0.8383\n",
      "Epoch 53/90\n",
      "131/131 [==============================] - 4s 32ms/step - loss: 0.0994 - accuracy: 0.9693 - val_loss: 0.8163 - val_accuracy: 0.8488\n",
      "Epoch 54/90\n",
      "131/131 [==============================] - 4s 31ms/step - loss: 0.0993 - accuracy: 0.9682 - val_loss: 0.7807 - val_accuracy: 0.8438\n",
      "Epoch 55/90\n",
      "131/131 [==============================] - 4s 31ms/step - loss: 0.0912 - accuracy: 0.9704 - val_loss: 0.8127 - val_accuracy: 0.8397\n",
      "Epoch 56/90\n",
      "131/131 [==============================] - 4s 32ms/step - loss: 0.0859 - accuracy: 0.9729 - val_loss: 0.8355 - val_accuracy: 0.8461\n",
      "Epoch 57/90\n",
      "131/131 [==============================] - 4s 31ms/step - loss: 0.0816 - accuracy: 0.9743 - val_loss: 0.8580 - val_accuracy: 0.8511\n"
     ]
    },
    {
     "name": "stdout",
     "output_type": "stream",
     "text": [
      "Epoch 58/90\n",
      "131/131 [==============================] - 4s 32ms/step - loss: 0.0799 - accuracy: 0.9746 - val_loss: 0.9150 - val_accuracy: 0.8429\n",
      "Epoch 59/90\n",
      "131/131 [==============================] - 4s 29ms/step - loss: 0.0929 - accuracy: 0.9697 - val_loss: 0.8436 - val_accuracy: 0.8479\n",
      "Epoch 60/90\n",
      "131/131 [==============================] - 4s 28ms/step - loss: 0.0877 - accuracy: 0.9705 - val_loss: 0.8636 - val_accuracy: 0.8539\n",
      "Epoch 61/90\n",
      "131/131 [==============================] - 4s 29ms/step - loss: 0.0913 - accuracy: 0.9686 - val_loss: 0.9086 - val_accuracy: 0.8406\n",
      "Epoch 62/90\n",
      "131/131 [==============================] - 4s 31ms/step - loss: 0.0740 - accuracy: 0.9768 - val_loss: 0.8362 - val_accuracy: 0.8530\n",
      "Epoch 63/90\n",
      "131/131 [==============================] - 4s 32ms/step - loss: 0.0738 - accuracy: 0.9752 - val_loss: 0.8816 - val_accuracy: 0.8470\n",
      "Epoch 64/90\n",
      "131/131 [==============================] - 4s 30ms/step - loss: 0.0795 - accuracy: 0.9733 - val_loss: 0.8337 - val_accuracy: 0.8488\n",
      "Epoch 65/90\n",
      "131/131 [==============================] - 4s 30ms/step - loss: 0.0855 - accuracy: 0.9707 - val_loss: 0.9396 - val_accuracy: 0.8392\n",
      "Epoch 66/90\n",
      "131/131 [==============================] - 4s 31ms/step - loss: 0.1138 - accuracy: 0.9596 - val_loss: 0.8610 - val_accuracy: 0.8497\n",
      "Epoch 67/90\n",
      "131/131 [==============================] - 4s 30ms/step - loss: 0.0900 - accuracy: 0.9680 - val_loss: 0.8930 - val_accuracy: 0.8507\n",
      "Epoch 68/90\n",
      "131/131 [==============================] - 4s 30ms/step - loss: 0.0969 - accuracy: 0.9696 - val_loss: 0.7651 - val_accuracy: 0.8539\n",
      "Epoch 69/90\n",
      "131/131 [==============================] - 4s 30ms/step - loss: 0.0809 - accuracy: 0.9700 - val_loss: 0.8486 - val_accuracy: 0.8470\n",
      "Epoch 70/90\n",
      "131/131 [==============================] - 4s 30ms/step - loss: 0.0698 - accuracy: 0.9760 - val_loss: 0.7920 - val_accuracy: 0.8552\n",
      "Epoch 71/90\n",
      "131/131 [==============================] - 4s 30ms/step - loss: 0.0648 - accuracy: 0.9773 - val_loss: 0.8090 - val_accuracy: 0.8621\n",
      "Epoch 72/90\n",
      "131/131 [==============================] - 4s 31ms/step - loss: 0.0636 - accuracy: 0.9782 - val_loss: 0.9022 - val_accuracy: 0.8511\n",
      "Epoch 73/90\n",
      "131/131 [==============================] - 4s 31ms/step - loss: 0.0520 - accuracy: 0.9840 - val_loss: 0.8142 - val_accuracy: 0.8580\n",
      "Epoch 74/90\n",
      "131/131 [==============================] - 4s 31ms/step - loss: 0.0598 - accuracy: 0.9815 - val_loss: 0.7855 - val_accuracy: 0.8571\n",
      "Epoch 75/90\n",
      "131/131 [==============================] - 4s 31ms/step - loss: 0.0541 - accuracy: 0.9820 - val_loss: 0.8426 - val_accuracy: 0.8607\n",
      "Epoch 76/90\n",
      "131/131 [==============================] - 4s 31ms/step - loss: 0.0571 - accuracy: 0.9817 - val_loss: 0.8687 - val_accuracy: 0.8580\n",
      "Epoch 77/90\n",
      "131/131 [==============================] - 4s 31ms/step - loss: 0.0583 - accuracy: 0.9776 - val_loss: 0.8344 - val_accuracy: 0.8557\n",
      "Epoch 78/90\n",
      "131/131 [==============================] - 4s 30ms/step - loss: 0.0829 - accuracy: 0.9663 - val_loss: 0.9060 - val_accuracy: 0.8470\n",
      "Epoch 79/90\n",
      "131/131 [==============================] - 4s 31ms/step - loss: 0.0788 - accuracy: 0.9751 - val_loss: 0.9519 - val_accuracy: 0.8415\n",
      "Epoch 80/90\n",
      "131/131 [==============================] - 4s 31ms/step - loss: 0.0661 - accuracy: 0.9792 - val_loss: 0.8476 - val_accuracy: 0.8479\n",
      "Epoch 81/90\n",
      "131/131 [==============================] - 4s 31ms/step - loss: 0.0624 - accuracy: 0.9777 - val_loss: 0.9567 - val_accuracy: 0.8378\n",
      "Epoch 82/90\n",
      "131/131 [==============================] - 4s 33ms/step - loss: 0.1040 - accuracy: 0.9649 - val_loss: 0.8171 - val_accuracy: 0.8548\n",
      "Epoch 83/90\n",
      "131/131 [==============================] - 4s 31ms/step - loss: 0.0771 - accuracy: 0.9713 - val_loss: 0.8238 - val_accuracy: 0.8557\n",
      "Epoch 84/90\n",
      "131/131 [==============================] - 4s 31ms/step - loss: 0.0626 - accuracy: 0.9780 - val_loss: 0.8132 - val_accuracy: 0.8607\n",
      "Epoch 85/90\n",
      "131/131 [==============================] - 4s 31ms/step - loss: 0.0587 - accuracy: 0.9795 - val_loss: 0.8405 - val_accuracy: 0.8530\n",
      "Epoch 86/90\n",
      "131/131 [==============================] - 4s 32ms/step - loss: 0.0530 - accuracy: 0.9825 - val_loss: 0.8078 - val_accuracy: 0.8557\n",
      "Epoch 87/90\n",
      "131/131 [==============================] - 4s 33ms/step - loss: 0.0566 - accuracy: 0.9797 - val_loss: 0.8287 - val_accuracy: 0.8603\n",
      "Epoch 88/90\n",
      "131/131 [==============================] - 4s 33ms/step - loss: 0.0581 - accuracy: 0.9812 - val_loss: 0.7970 - val_accuracy: 0.8594\n",
      "Epoch 89/90\n",
      "131/131 [==============================] - 4s 31ms/step - loss: 0.0515 - accuracy: 0.9813 - val_loss: 0.8820 - val_accuracy: 0.8548\n",
      "Epoch 90/90\n",
      "131/131 [==============================] - 4s 32ms/step - loss: 0.0612 - accuracy: 0.9802 - val_loss: 0.8846 - val_accuracy: 0.8562\n"
     ]
    },
    {
     "data": {
      "text/plain": [
       "<tensorflow.python.keras.callbacks.History at 0x7fcef6c13220>"
      ]
     },
     "execution_count": 22,
     "metadata": {},
     "output_type": "execute_result"
    }
   ],
   "source": [
    "model.fit(X_train, Y_train, epochs = 90, batch_size = 50, validation_data = (X_test, Y_test))\n"
   ]
  },
  {
   "cell_type": "code",
   "execution_count": 24,
   "id": "liquid-probability",
   "metadata": {},
   "outputs": [
    {
     "name": "stdout",
     "output_type": "stream",
     "text": [
      "Model: \"sequential\"\n",
      "_________________________________________________________________\n",
      "Layer (type)                 Output Shape              Param #   \n",
      "=================================================================\n",
      "conv2d (Conv2D)              (None, 16, 8, 64)         640       \n",
      "_________________________________________________________________\n",
      "max_pooling2d (MaxPooling2D) (None, 8, 4, 64)          0         \n",
      "_________________________________________________________________\n",
      "conv2d_1 (Conv2D)            (None, 8, 4, 128)         73856     \n",
      "_________________________________________________________________\n",
      "max_pooling2d_1 (MaxPooling2 (None, 4, 2, 128)         0         \n",
      "_________________________________________________________________\n",
      "dropout (Dropout)            (None, 4, 2, 128)         0         \n",
      "_________________________________________________________________\n",
      "flatten (Flatten)            (None, 1024)              0         \n",
      "_________________________________________________________________\n",
      "dense (Dense)                (None, 1024)              1049600   \n",
      "_________________________________________________________________\n",
      "dense_1 (Dense)              (None, 10)                10250     \n",
      "=================================================================\n",
      "Total params: 1,134,346\n",
      "Trainable params: 1,134,346\n",
      "Non-trainable params: 0\n",
      "_________________________________________________________________\n"
     ]
    }
   ],
   "source": [
    "model.summary()"
   ]
  },
  {
   "cell_type": "code",
   "execution_count": 25,
   "id": "chinese-dallas",
   "metadata": {},
   "outputs": [
    {
     "name": "stdout",
     "output_type": "stream",
     "text": [
      "69/69 [==============================] - 0s 5ms/step - loss: 0.8846 - accuracy: 0.8562\n",
      "[0.8846327066421509, 0.8561612367630005]\n"
     ]
    }
   ],
   "source": [
    "predictions = model.predict(X_test)\n",
    "score = model.evaluate(X_test, Y_test)\n",
    "print(score)"
   ]
  },
  {
   "cell_type": "code",
   "execution_count": 26,
   "id": "waiting-promise",
   "metadata": {},
   "outputs": [
    {
     "name": "stdout",
     "output_type": "stream",
     "text": [
      "Saved model to disk\n"
     ]
    }
   ],
   "source": [
    "# serialize model to JSON\n",
    "model_json = model.to_json()\n",
    "with open(\"savedModel/model.json\", \"w\") as json_file:\n",
    "    json_file.write(model_json)\n",
    "# serialize weights to HDF5\n",
    "model.save_weights(\"savedModel/model.h5\")\n",
    "print(\"Saved model to disk\")"
   ]
  },
  {
   "cell_type": "code",
   "execution_count": 27,
   "id": "bb9db386",
   "metadata": {},
   "outputs": [
    {
     "name": "stdout",
     "output_type": "stream",
     "text": [
      "[[1.4466537e-09 1.9374886e-12 9.9989581e-01 ... 2.4155017e-23\n",
      "  1.3412732e-16 1.8132441e-07]\n",
      " [2.8542450e-02 2.1996722e-03 1.0617786e-01 ... 7.2300155e-04\n",
      "  8.3924341e-01 8.9494409e-03]\n",
      " [2.7269930e-17 3.3179785e-12 6.9711836e-09 ... 2.1039855e-19\n",
      "  1.0000000e+00 1.1075428e-12]\n",
      " ...\n",
      " [1.2099254e-12 3.1906129e-08 9.9999976e-01 ... 1.6135993e-12\n",
      "  4.9492574e-18 1.8208654e-07]\n",
      " [7.0920847e-10 1.9761838e-15 1.2356192e-12 ... 6.5154550e-13\n",
      "  4.7927999e-17 4.0841053e-11]\n",
      " [2.8830927e-09 1.1261539e-08 2.4103883e-10 ... 1.5552309e-14\n",
      "  4.1458654e-05 4.4329004e-10]]\n"
     ]
    }
   ],
   "source": [
    "print(predictions) "
   ]
  },
  {
   "cell_type": "code",
   "execution_count": 41,
   "id": "e4db6765",
   "metadata": {},
   "outputs": [],
   "source": [
    "def predict(file_name):\n",
    "    #file_name = \"7061-6-0-0.wav\"\n",
    "    # Here kaiser_fast is a technique used for faster extraction\n",
    "    X, sample_rate = librosa.load(file_name, res_type='kaiser_fast') \n",
    "    # We extract mfcc feature from data\n",
    "    mels = np.mean(librosa.feature.melspectrogram(y=X, sr=sample_rate).T,axis=0)  \n",
    "    mels=mels.reshape(1,16,8,1)\n",
    "    a=model.predict(mels)\n",
    "    classid=(np.argmax(a))\n",
    "    new_df=df.loc[(df.classID==classid)]\n",
    "    label_predict=np.array(new_df[\"class\"])\n",
    "    className=label_predict[0]\n",
    "    return className    "
   ]
  },
  {
   "cell_type": "code",
   "execution_count": null,
   "id": "0a4070b3",
   "metadata": {},
   "outputs": [],
   "source": []
  }
 ],
 "metadata": {
  "kernelspec": {
   "display_name": "Python 3",
   "language": "python",
   "name": "python3"
  },
  "language_info": {
   "codemirror_mode": {
    "name": "ipython",
    "version": 3
   },
   "file_extension": ".py",
   "mimetype": "text/x-python",
   "name": "python",
   "nbconvert_exporter": "python",
   "pygments_lexer": "ipython3",
   "version": "3.8.5"
  }
 },
 "nbformat": 4,
 "nbformat_minor": 5
}
